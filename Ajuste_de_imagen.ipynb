{
  "nbformat": 4,
  "nbformat_minor": 0,
  "metadata": {
    "colab": {
      "provenance": [],
      "authorship_tag": "ABX9TyPW49VupoX9e0oceNandkSc",
      "include_colab_link": true
    },
    "kernelspec": {
      "name": "python3",
      "display_name": "Python 3"
    },
    "language_info": {
      "name": "python"
    }
  },
  "cells": [
    {
      "cell_type": "markdown",
      "metadata": {
        "id": "view-in-github",
        "colab_type": "text"
      },
      "source": [
        "<a href=\"https://colab.research.google.com/github/JuanZapa7a/Hello-world/blob/readme-edits/Ajuste_de_imagen.ipynb\" target=\"_parent\"><img src=\"https://colab.research.google.com/assets/colab-badge.svg\" alt=\"Open In Colab\"/></a>"
      ]
    },
    {
      "cell_type": "markdown",
      "source": [
        "\n",
        "# 9. Ajuste de Imagen: Transformación del Contenido de la Imagen\n",
        "## 9.1. Manipulación de Color\n",
        "\n",
        "La mayoría de las funciones para manipular los canales de color se encuentran en el submódulo skimage.color.\n",
        "### 9.1.1. Conversión entre modelos de color\n",
        "\n",
        "Las imágenes a color pueden representarse utilizando diferentes espacios de color. Uno de los espacios de color más comunes es el espacio RGB, donde una imagen tiene canales de rojo, verde y azul. Sin embargo, se utilizan ampliamente otros modelos de color, como el modelo de color HSV, donde el tono, la saturación y el valor son canales independientes, o el modelo CMYK utilizado para la impresión.\n",
        "\n",
        "skimage.color proporciona funciones de utilidad para convertir imágenes hacia y desde diferentes espacios de color. Los arreglos de tipo entero pueden transformarse a tipo de punto flotante mediante la operación de conversión."
      ],
      "metadata": {
        "id": "Z840zNrmQhQz"
      }
    },
    {
      "cell_type": "code",
      "source": [
        "import numpy as np\n",
        "from skimage import color"
      ],
      "metadata": {
        "id": "-lkmM8E1Q-WQ"
      },
      "execution_count": 5,
      "outputs": []
    },
    {
      "cell_type": "code",
      "source": [
        "# Rojo brillante saturado\n",
        "pixel_rojo_rgb = np.array([[[255, 0, 0]]], dtype=np.uint8)\n",
        "color.rgb2hsv(pixel_rojo_rgb)\n"
      ],
      "metadata": {
        "colab": {
          "base_uri": "https://localhost:8080/"
        },
        "id": "Va1U47PsQyZz",
        "outputId": "4e70962a-9263-4be9-d119-83d595a62de3"
      },
      "execution_count": 6,
      "outputs": [
        {
          "output_type": "execute_result",
          "data": {
            "text/plain": [
              "array([[[0., 1., 1.]]])"
            ]
          },
          "metadata": {},
          "execution_count": 6
        }
      ]
    },
    {
      "cell_type": "code",
      "source": [
        "# Azul saturado más oscuro\n",
        "pixel_azul_oscuro_rgb = np.array([[[0, 0, 100]]], dtype=np.uint8)\n",
        "color.rgb2hsv(pixel_azul_oscuro_rgb)\n"
      ],
      "metadata": {
        "colab": {
          "base_uri": "https://localhost:8080/"
        },
        "id": "IB2-rid6Q01A",
        "outputId": "39dee205-c0c2-49c9-f322-2e8b16e53c1d"
      },
      "execution_count": 7,
      "outputs": [
        {
          "output_type": "execute_result",
          "data": {
            "text/plain": [
              "array([[[0.66666667, 1.        , 0.39215686]]])"
            ]
          },
          "metadata": {},
          "execution_count": 7
        }
      ]
    },
    {
      "cell_type": "code",
      "source": [
        "# Rosa menos saturado\n",
        "pixel_rosa_rgb = np.array([[[255, 100, 255]]], dtype=np.uint8)\n",
        "color.rgb2hsv(pixel_rosa_rgb)\n",
        "\n"
      ],
      "metadata": {
        "colab": {
          "base_uri": "https://localhost:8080/"
        },
        "id": "bFtEAPorQ2M2",
        "outputId": "b5b5405a-2a87-437b-9a09-642e9298f44c"
      },
      "execution_count": 8,
      "outputs": [
        {
          "output_type": "execute_result",
          "data": {
            "text/plain": [
              "array([[[0.83333333, 0.60784314, 1.        ]]])"
            ]
          },
          "metadata": {},
          "execution_count": 8
        }
      ]
    }
  ]
}